{
 "cells": [
  {
   "cell_type": "code",
   "execution_count": 12,
   "metadata": {},
   "outputs": [],
   "source": [
    "import xgboost as xgb\n",
    "import catboost as ctb\n",
    "import pickle\n",
    "import pandas as pd\n",
    "import numpy as np\n",
    "from config.cicconfig import mapping\n",
    "# from src.datasetconfig import mapping"
   ]
  },
  {
   "cell_type": "code",
   "execution_count": 14,
   "metadata": {},
   "outputs": [],
   "source": [
    "# 加载XGBoost模型\n",
    "clf = xgb.XGBClassifier()\n",
    "clf.load_model('xgb_model.json')\n",
    "\n",
    "# 加载CatBoost模型\n",
    "cat_clf = ctb.CatBoostClassifier()\n",
    "cat_clf.load_model('cat_model.cbm')\n",
    "\n",
    "# 加载元模型\n",
    "with open('meta_model.pkl', 'rb') as f:\n",
    "    meta_model = pickle.load(f)"
   ]
  },
  {
   "cell_type": "code",
   "execution_count": 15,
   "metadata": {},
   "outputs": [],
   "source": [
    "# clf.feature_names_in_"
   ]
  },
  {
   "cell_type": "code",
   "execution_count": 16,
   "metadata": {},
   "outputs": [],
   "source": [
    "# 读取CSV文件\n",
    "# data = pd.read_csv('06_22_2017-be-20170220-apps-com.hellochinese.pcap_ISCX.csv',encoding='gbk')  \n",
    "data = pd.read_csv(path,encoding='gbk')  #检测捕获流量的原始文件夹\n",
    "# data=preprocess_data(data,clf.feature_names_in_)\n",
    "# 清理列名\n",
    "# data.columns = data.columns.str.strip()\n",
    "\n",
    "\n",
    "# 移除下面这两行，因为mapping变量未定义\n",
    "data=data.rename(columns=mapping)\n",
    "# data.drop(columns=['Fwd Header Length.1'], inplace=True)\n",
    "\n",
    "# 确保列名格式正确\n",
    "\n",
    "\n",
    "# print(data.info())\n",
    "# data.columns"
   ]
  },
  {
   "cell_type": "markdown",
   "metadata": {},
   "source": []
  },
  {
   "cell_type": "code",
   "execution_count": 17,
   "metadata": {},
   "outputs": [
    {
     "name": "stdout",
     "output_type": "stream",
     "text": [
      "Data types after conversion:\n"
     ]
    }
   ],
   "source": [
    "for col in data.columns:\n",
    "    if col != 'Label': \n",
    "        try:\n",
    "            series = pd.to_numeric(data[col], errors='coerce')\n",
    "            series = series.replace([np.inf, -np.inf], np.nan)\n",
    "            series = series.fillna(0).astype(int)\n",
    "            data[col] = series\n",
    "        except Exception as e:\n",
    "            print(f\"Error converting column {col}: {e}\")\n",
    "\n",
    "print(\"Data types after conversion:\")"
   ]
  },
  {
   "cell_type": "code",
   "execution_count": 18,
   "metadata": {},
   "outputs": [],
   "source": [
    "# data.head(10)"
   ]
  },
  {
   "cell_type": "markdown",
   "metadata": {},
   "source": []
  },
  {
   "cell_type": "code",
   "execution_count": 19,
   "metadata": {},
   "outputs": [],
   "source": [
    "X_new = data.drop(['Label'], axis=1, errors='ignore')\n",
    "X_new.to_csv('output.csv', index=False)"
   ]
  },
  {
   "cell_type": "code",
   "execution_count": 20,
   "metadata": {},
   "outputs": [
    {
     "name": "stdout",
     "output_type": "stream",
     "text": [
      "XGBoost模型检测到的恶性流量数量: 2\n",
      "CatBoost模型检测到的恶性流量数量: 0\n",
      "元模型检测到的恶性流量数量: 1\n"
     ]
    }
   ],
   "source": [
    "# 获取基模型的预测概率\n",
    "xgb_pred_proba = clf.predict_proba(X_new)\n",
    "cat_pred_proba = cat_clf.predict_proba(X_new)\n",
    "\n",
    "# 获取各模型的预测结果\n",
    "xgb_pred = clf.predict(X_new)\n",
    "cat_pred = cat_clf.predict(X_new)\n",
    "\n",
    "# 拼接预测概率作为元模型的输入\n",
    "meta_features = np.column_stack((xgb_pred_proba, cat_pred_proba))\n",
    "\n",
    "# 使用元模型进行最终预测\n",
    "final_pred = meta_model.predict(meta_features)\n",
    "\n",
    "\n",
    "# 统计各模型恶性流量的数量\n",
    "# 假设1为恶性流量标签\n",
    "xgb_malicious_count = np.sum(xgb_pred == 1)\n",
    "cat_malicious_count = np.sum(cat_pred == 1)\n",
    "meta_malicious_count = np.sum(final_pred == 1)\n",
    "\n",
    "# 输出各模型的恶性流量数量\n",
    "print(f'XGBoost模型检测到的恶性流量数量: {xgb_malicious_count}')\n",
    "print(f'CatBoost模型检测到的恶性流量数量: {cat_malicious_count}')\n",
    "print(f'元模型检测到的恶性流量数量: {meta_malicious_count}')\n",
    "\n",
    "\n",
    "\n"
   ]
  },
  {
   "cell_type": "code",
   "execution_count": null,
   "metadata": {},
   "outputs": [
    {
     "name": "stdout",
     "output_type": "stream",
     "text": [
      "恶意流量数量: 1\n",
      "\n",
      "恶意流量数据样例:\n",
      "    Flow_ID  Source_IP  Source_Port  Destination_IP  Destination_Port  \\\n",
      "53        0          0        57179               0               443   \n",
      "\n",
      "    Protocol  Timestamp  Flow_Duration  Total_Fwd_Packets  \\\n",
      "53         6          0       10212949                 10   \n",
      "\n",
      "    Total_Backward_Packets  ...  Active_Mean  Active_Std  Active_Max  \\\n",
      "53                      12  ...       252967           0      252967   \n",
      "\n",
      "    Active_Min  Idle_Mean  Idle_Std  Idle_Max  Idle_Min            Label  \\\n",
      "53      252967    9959982         0   9959982   9959982  NeedManualLabel   \n",
      "\n",
      "    Prediction  \n",
      "53           1  \n",
      "\n",
      "[1 rows x 85 columns]\n",
      "\n",
      "恶意流量数据已保存到 'malicious_flows.csv'\n"
     ]
    }
   ],
   "source": [
    "# 从最后一个代码单元格继续，创建一个包含预测结果的数据框\n",
    "data_with_predictions = data.copy()\n",
    "data_with_predictions['Prediction'] = final_pred\n",
    "\n",
    "# 筛选出预测为恶意的流量 (label=1 表示恶意)\n",
    "malicious_data = data_with_predictions[data_with_predictions['Prediction'] == 1]\n",
    "\n",
    "# 打印恶意流量数据\n",
    "print(f\"恶意流量数量: {len(malicious_data)}\")\n",
    "print(\"\\n恶意流量数据样例:\")\n",
    "print(malicious_data.head())\n",
    "\n",
    "# 如果需要，可以保存这些恶意流量数据到CSV文件\n",
    "malicious_data.to_csv('malicious_flows.csv', index=False)\n",
    "print(\"\\n恶意流量数据已保存到 'malicious_flows.csv'\")"
   ]
  },
  {
   "cell_type": "code",
   "execution_count": null,
   "metadata": {},
   "outputs": [],
   "source": []
  }
 ],
 "metadata": {
  "kernelspec": {
   "display_name": "mal",
   "language": "python",
   "name": "python3"
  },
  "language_info": {
   "codemirror_mode": {
    "name": "ipython",
    "version": 3
   },
   "file_extension": ".py",
   "mimetype": "text/x-python",
   "name": "python",
   "nbconvert_exporter": "python",
   "pygments_lexer": "ipython3",
   "version": "3.12.9"
  }
 },
 "nbformat": 4,
 "nbformat_minor": 2
}
